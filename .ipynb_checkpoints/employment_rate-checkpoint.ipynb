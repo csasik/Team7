{
 "cells": [
  {
   "cell_type": "code",
   "execution_count": 269,
   "metadata": {},
   "outputs": [],
   "source": [
    "# Dependencies\n",
    "import requests, pprint\n",
    "import json, os, sys\n",
    "import pandas as pd\n",
    "import numpy as np\n",
    "import matplotlib.pyplot as plt\n"
   ]
  },
  {
   "cell_type": "code",
   "execution_count": 270,
   "metadata": {},
   "outputs": [
    {
     "data": {
      "text/html": [
       "<div>\n",
       "<style scoped>\n",
       "    .dataframe tbody tr th:only-of-type {\n",
       "        vertical-align: middle;\n",
       "    }\n",
       "\n",
       "    .dataframe tbody tr th {\n",
       "        vertical-align: top;\n",
       "    }\n",
       "\n",
       "    .dataframe thead th {\n",
       "        text-align: right;\n",
       "    }\n",
       "</style>\n",
       "<table border=\"1\" class=\"dataframe\">\n",
       "  <thead>\n",
       "    <tr style=\"text-align: right;\">\n",
       "      <th></th>\n",
       "      <th>Year</th>\n",
       "      <th>Period</th>\n",
       "      <th>labor force</th>\n",
       "      <th>employment</th>\n",
       "      <th>unemployment</th>\n",
       "      <th>unemployment rate</th>\n",
       "    </tr>\n",
       "  </thead>\n",
       "  <tbody>\n",
       "    <tr>\n",
       "      <th>0</th>\n",
       "      <td>2008</td>\n",
       "      <td>Jan</td>\n",
       "      <td>18033755(S)</td>\n",
       "      <td>16959230(S)</td>\n",
       "      <td>1074525(S)</td>\n",
       "      <td>6.0(S)</td>\n",
       "    </tr>\n",
       "    <tr>\n",
       "      <th>1</th>\n",
       "      <td>2008</td>\n",
       "      <td>Feb</td>\n",
       "      <td>18055339(S)</td>\n",
       "      <td>16957546(S)</td>\n",
       "      <td>1097793(S)</td>\n",
       "      <td>6.1(S)</td>\n",
       "    </tr>\n",
       "    <tr>\n",
       "      <th>2</th>\n",
       "      <td>2008</td>\n",
       "      <td>Mar</td>\n",
       "      <td>18079265(S)</td>\n",
       "      <td>16950002(S)</td>\n",
       "      <td>1129263(S)</td>\n",
       "      <td>6.2(S)</td>\n",
       "    </tr>\n",
       "    <tr>\n",
       "      <th>3</th>\n",
       "      <td>2008</td>\n",
       "      <td>Apr</td>\n",
       "      <td>18107051(S)</td>\n",
       "      <td>16936408(S)</td>\n",
       "      <td>1170643(S)</td>\n",
       "      <td>6.5(S)</td>\n",
       "    </tr>\n",
       "    <tr>\n",
       "      <th>4</th>\n",
       "      <td>2008</td>\n",
       "      <td>May</td>\n",
       "      <td>18139327(S)</td>\n",
       "      <td>16918510(S)</td>\n",
       "      <td>1220817(S)</td>\n",
       "      <td>6.7(S)</td>\n",
       "    </tr>\n",
       "  </tbody>\n",
       "</table>\n",
       "</div>"
      ],
      "text/plain": [
       "   Year Period  labor force   employment unemployment unemployment rate\n",
       "0  2008    Jan  18033755(S)  16959230(S)   1074525(S)            6.0(S)\n",
       "1  2008    Feb  18055339(S)  16957546(S)   1097793(S)            6.1(S)\n",
       "2  2008    Mar  18079265(S)  16950002(S)   1129263(S)            6.2(S)\n",
       "3  2008    Apr  18107051(S)  16936408(S)   1170643(S)            6.5(S)\n",
       "4  2008    May  18139327(S)  16918510(S)   1220817(S)            6.7(S)"
      ]
     },
     "execution_count": 270,
     "metadata": {},
     "output_type": "execute_result"
    }
   ],
   "source": [
    "data_file = 'Resources/Employment_Data.csv'\n",
    "employment_data = pd.read_csv(data_file)\n",
    "employment_data.head()\n"
   ]
  },
  {
   "cell_type": "code",
   "execution_count": 271,
   "metadata": {},
   "outputs": [
    {
     "data": {
      "text/plain": [
       "Index(['Year', 'Period', 'labor force', 'employment', 'unemployment',\n",
       "       'unemployment rate'],\n",
       "      dtype='object')"
      ]
     },
     "execution_count": 271,
     "metadata": {},
     "output_type": "execute_result"
    }
   ],
   "source": [
    "employment_data.columns\n"
   ]
  },
  {
   "cell_type": "code",
   "execution_count": 272,
   "metadata": {},
   "outputs": [],
   "source": [
    "# function to clean the extra string '(S)' from the end of columns\n",
    "def clean_data (column, string):\n",
    "    employment_data[column] = employment_data[column].str.replace( string , '')    \n"
   ]
  },
  {
   "cell_type": "code",
   "execution_count": 273,
   "metadata": {},
   "outputs": [],
   "source": [
    "#calling cleaning data function to clean labor force\n",
    "clean_data ( 'labor force', 'S')\n",
    "clean_data ( 'labor force', '(')\n",
    "clean_data ( 'labor force', ')')\n",
    "clean_data ( 'labor force', 'P')\n",
    "clean_data ( 'labor force', 'B')"
   ]
  },
  {
   "cell_type": "code",
   "execution_count": 274,
   "metadata": {},
   "outputs": [],
   "source": [
    "#calling cleaning data function to clean employed\n",
    "clean_data ( 'employment', 'S')\n",
    "clean_data ( 'employment', '(')\n",
    "clean_data ( 'employment', ')')\n",
    "clean_data ( 'employment', 'P')\n",
    "clean_data ( 'employment', 'B')"
   ]
  },
  {
   "cell_type": "code",
   "execution_count": 275,
   "metadata": {},
   "outputs": [],
   "source": [
    "#calling cleaning data function to clean unemployed\n",
    "clean_data ( 'unemployment', 'S')\n",
    "clean_data ( 'unemployment', '(')\n",
    "clean_data ( 'unemployment', ')')\n",
    "clean_data ( 'unemployment', 'P')\n",
    "clean_data ( 'unemployment', 'B')"
   ]
  },
  {
   "cell_type": "code",
   "execution_count": 276,
   "metadata": {},
   "outputs": [
    {
     "data": {
      "text/html": [
       "<div>\n",
       "<style scoped>\n",
       "    .dataframe tbody tr th:only-of-type {\n",
       "        vertical-align: middle;\n",
       "    }\n",
       "\n",
       "    .dataframe tbody tr th {\n",
       "        vertical-align: top;\n",
       "    }\n",
       "\n",
       "    .dataframe thead th {\n",
       "        text-align: right;\n",
       "    }\n",
       "</style>\n",
       "<table border=\"1\" class=\"dataframe\">\n",
       "  <thead>\n",
       "    <tr style=\"text-align: right;\">\n",
       "      <th></th>\n",
       "      <th>Year</th>\n",
       "      <th>Period</th>\n",
       "      <th>labor force</th>\n",
       "      <th>employment</th>\n",
       "      <th>unemployment</th>\n",
       "      <th>unemployment rate</th>\n",
       "    </tr>\n",
       "  </thead>\n",
       "  <tbody>\n",
       "    <tr>\n",
       "      <th>0</th>\n",
       "      <td>2008</td>\n",
       "      <td>Jan</td>\n",
       "      <td>18033755</td>\n",
       "      <td>16959230</td>\n",
       "      <td>1074525</td>\n",
       "      <td>6.0(S)</td>\n",
       "    </tr>\n",
       "    <tr>\n",
       "      <th>1</th>\n",
       "      <td>2008</td>\n",
       "      <td>Feb</td>\n",
       "      <td>18055339</td>\n",
       "      <td>16957546</td>\n",
       "      <td>1097793</td>\n",
       "      <td>6.1(S)</td>\n",
       "    </tr>\n",
       "    <tr>\n",
       "      <th>2</th>\n",
       "      <td>2008</td>\n",
       "      <td>Mar</td>\n",
       "      <td>18079265</td>\n",
       "      <td>16950002</td>\n",
       "      <td>1129263</td>\n",
       "      <td>6.2(S)</td>\n",
       "    </tr>\n",
       "    <tr>\n",
       "      <th>3</th>\n",
       "      <td>2008</td>\n",
       "      <td>Apr</td>\n",
       "      <td>18107051</td>\n",
       "      <td>16936408</td>\n",
       "      <td>1170643</td>\n",
       "      <td>6.5(S)</td>\n",
       "    </tr>\n",
       "    <tr>\n",
       "      <th>4</th>\n",
       "      <td>2008</td>\n",
       "      <td>May</td>\n",
       "      <td>18139327</td>\n",
       "      <td>16918510</td>\n",
       "      <td>1220817</td>\n",
       "      <td>6.7(S)</td>\n",
       "    </tr>\n",
       "  </tbody>\n",
       "</table>\n",
       "</div>"
      ],
      "text/plain": [
       "   Year Period labor force employment unemployment unemployment rate\n",
       "0  2008    Jan    18033755   16959230      1074525            6.0(S)\n",
       "1  2008    Feb    18055339   16957546      1097793            6.1(S)\n",
       "2  2008    Mar    18079265   16950002      1129263            6.2(S)\n",
       "3  2008    Apr    18107051   16936408      1170643            6.5(S)\n",
       "4  2008    May    18139327   16918510      1220817            6.7(S)"
      ]
     },
     "execution_count": 276,
     "metadata": {},
     "output_type": "execute_result"
    }
   ],
   "source": [
    "employment_data.head()"
   ]
  },
  {
   "cell_type": "code",
   "execution_count": 277,
   "metadata": {},
   "outputs": [
    {
     "data": {
      "text/plain": [
       "Year                  int64\n",
       "Period               object\n",
       "labor force          object\n",
       "employment           object\n",
       "unemployment         object\n",
       "unemployment rate    object\n",
       "dtype: object"
      ]
     },
     "execution_count": 277,
     "metadata": {},
     "output_type": "execute_result"
    }
   ],
   "source": [
    "employment_data.dtypes"
   ]
  },
  {
   "cell_type": "code",
   "execution_count": 278,
   "metadata": {},
   "outputs": [],
   "source": [
    "# changing the data types from string to float\n",
    "employment_data['employment'] = employment_data['employment'].astype(float)\n",
    "employment_data['unemployment'] = employment_data['unemployment'].astype(float)\n",
    "employment_data['labor force'] = employment_data['labor force'].astype(float)"
   ]
  },
  {
   "cell_type": "code",
   "execution_count": 279,
   "metadata": {},
   "outputs": [
    {
     "data": {
      "text/html": [
       "<div>\n",
       "<style scoped>\n",
       "    .dataframe tbody tr th:only-of-type {\n",
       "        vertical-align: middle;\n",
       "    }\n",
       "\n",
       "    .dataframe tbody tr th {\n",
       "        vertical-align: top;\n",
       "    }\n",
       "\n",
       "    .dataframe thead th {\n",
       "        text-align: right;\n",
       "    }\n",
       "</style>\n",
       "<table border=\"1\" class=\"dataframe\">\n",
       "  <thead>\n",
       "    <tr style=\"text-align: right;\">\n",
       "      <th></th>\n",
       "      <th>Year</th>\n",
       "      <th>Period</th>\n",
       "      <th>labor force</th>\n",
       "      <th>employment</th>\n",
       "      <th>unemployment</th>\n",
       "      <th>unemployment rate</th>\n",
       "      <th>unemployment rate2</th>\n",
       "    </tr>\n",
       "  </thead>\n",
       "  <tbody>\n",
       "    <tr>\n",
       "      <th>0</th>\n",
       "      <td>2008</td>\n",
       "      <td>Jan</td>\n",
       "      <td>18033755.0</td>\n",
       "      <td>16959230.0</td>\n",
       "      <td>1074525.0</td>\n",
       "      <td>6.0(S)</td>\n",
       "      <td>6.0</td>\n",
       "    </tr>\n",
       "    <tr>\n",
       "      <th>1</th>\n",
       "      <td>2008</td>\n",
       "      <td>Feb</td>\n",
       "      <td>18055339.0</td>\n",
       "      <td>16957546.0</td>\n",
       "      <td>1097793.0</td>\n",
       "      <td>6.1(S)</td>\n",
       "      <td>6.1</td>\n",
       "    </tr>\n",
       "    <tr>\n",
       "      <th>2</th>\n",
       "      <td>2008</td>\n",
       "      <td>Mar</td>\n",
       "      <td>18079265.0</td>\n",
       "      <td>16950002.0</td>\n",
       "      <td>1129263.0</td>\n",
       "      <td>6.2(S)</td>\n",
       "      <td>6.2</td>\n",
       "    </tr>\n",
       "    <tr>\n",
       "      <th>3</th>\n",
       "      <td>2008</td>\n",
       "      <td>Apr</td>\n",
       "      <td>18107051.0</td>\n",
       "      <td>16936408.0</td>\n",
       "      <td>1170643.0</td>\n",
       "      <td>6.5(S)</td>\n",
       "      <td>6.5</td>\n",
       "    </tr>\n",
       "    <tr>\n",
       "      <th>4</th>\n",
       "      <td>2008</td>\n",
       "      <td>May</td>\n",
       "      <td>18139327.0</td>\n",
       "      <td>16918510.0</td>\n",
       "      <td>1220817.0</td>\n",
       "      <td>6.7(S)</td>\n",
       "      <td>6.7</td>\n",
       "    </tr>\n",
       "  </tbody>\n",
       "</table>\n",
       "</div>"
      ],
      "text/plain": [
       "   Year Period  labor force  employment  unemployment unemployment rate  \\\n",
       "0  2008    Jan   18033755.0  16959230.0     1074525.0            6.0(S)   \n",
       "1  2008    Feb   18055339.0  16957546.0     1097793.0            6.1(S)   \n",
       "2  2008    Mar   18079265.0  16950002.0     1129263.0            6.2(S)   \n",
       "3  2008    Apr   18107051.0  16936408.0     1170643.0            6.5(S)   \n",
       "4  2008    May   18139327.0  16918510.0     1220817.0            6.7(S)   \n",
       "\n",
       "   unemployment rate2  \n",
       "0                 6.0  \n",
       "1                 6.1  \n",
       "2                 6.2  \n",
       "3                 6.5  \n",
       "4                 6.7  "
      ]
     },
     "execution_count": 279,
     "metadata": {},
     "output_type": "execute_result"
    }
   ],
   "source": [
    "# calculating the rate of unemployment\n",
    "employment_data['unemployment rate2'] =  round( employment_data['unemployment']/employment_data['labor force']*100, 1)\n",
    "employment_data.head()"
   ]
  },
  {
   "cell_type": "code",
   "execution_count": 280,
   "metadata": {},
   "outputs": [
    {
     "data": {
      "image/png": "[encoded data removed]",
      "text/plain": [
       "<Figure size 1440x504 with 1 Axes>"
      ]
     },
     "metadata": {},
     "output_type": "display_data"
    }
   ],
   "source": [
    "x = employment_data['Year']\n",
    "y = employment_data['unemployment rate2']\n",
    "\n",
    "plt.figure(figsize=(20,7))\n",
    "plt.bar(x, y)\n",
    "plt.title( 'Unemployment Rates Over the Years')\n",
    "plt.xlabel('Years')\n",
    "plt.ylabel('Unemployment Rates')\n",
    "plt.grid(axis='y')\n",
    "plt.tight_layout()"
   ]
  },
  {
   "cell_type": "code",
   "execution_count": 281,
   "metadata": {},
   "outputs": [
    {
     "data": {
      "image/png": "[encoded data removed]",
      "text/plain": [
       "<Figure size 2160x720 with 1 Axes>"
      ]
     },
     "metadata": {},
     "output_type": "display_data"
    }
   ],
   "source": [
    "from matplotlib import dates as mdates\n",
    "\n",
    "fig = plt.figure(figsize=(30,10))\n",
    "ax = plt.subplot(111)\n",
    "plt.plot(y )\n",
    "\n",
    "years = mdates.YearLocator()\n",
    "months = mdates.MonthLocator()\n",
    "yearsFmt = mdates.DateFormatter('%Y')\n",
    "\n",
    "ax.xaxis.set_major_locator(years)\n",
    "ax.xaxis.set_major_formatter(yearsFmt)\n",
    "ax.xaxis.set_minor_locator(months)\n",
    "\n",
    "ax.grid(axis='y')\n",
    "ax.set_ylabel('UnEmplyment Rate')\n",
    "ax.set_xlabel('Years')\n",
    "\n",
    "plt.show()"
   ]
  },
  {
   "cell_type": "code",
   "execution_count": 282,
   "metadata": {},
   "outputs": [
    {
     "data": {
      "text/html": [
       "<div>\n",
       "<style scoped>\n",
       "    .dataframe tbody tr th:only-of-type {\n",
       "        vertical-align: middle;\n",
       "    }\n",
       "\n",
       "    .dataframe tbody tr th {\n",
       "        vertical-align: top;\n",
       "    }\n",
       "\n",
       "    .dataframe thead th {\n",
       "        text-align: right;\n",
       "    }\n",
       "</style>\n",
       "<table border=\"1\" class=\"dataframe\">\n",
       "  <thead>\n",
       "    <tr style=\"text-align: right;\">\n",
       "      <th></th>\n",
       "      <th>Year</th>\n",
       "      <th>Period</th>\n",
       "      <th>labor force</th>\n",
       "      <th>employment</th>\n",
       "      <th>unemployment</th>\n",
       "      <th>unemployment rate</th>\n",
       "      <th>unemployment rate2</th>\n",
       "      <th>employment rate</th>\n",
       "    </tr>\n",
       "  </thead>\n",
       "  <tbody>\n",
       "    <tr>\n",
       "      <th>0</th>\n",
       "      <td>2008</td>\n",
       "      <td>Jan</td>\n",
       "      <td>18033755.0</td>\n",
       "      <td>16959230.0</td>\n",
       "      <td>1074525.0</td>\n",
       "      <td>6.0(S)</td>\n",
       "      <td>6.0</td>\n",
       "      <td>94.0</td>\n",
       "    </tr>\n",
       "    <tr>\n",
       "      <th>1</th>\n",
       "      <td>2008</td>\n",
       "      <td>Feb</td>\n",
       "      <td>18055339.0</td>\n",
       "      <td>16957546.0</td>\n",
       "      <td>1097793.0</td>\n",
       "      <td>6.1(S)</td>\n",
       "      <td>6.1</td>\n",
       "      <td>93.9</td>\n",
       "    </tr>\n",
       "    <tr>\n",
       "      <th>2</th>\n",
       "      <td>2008</td>\n",
       "      <td>Mar</td>\n",
       "      <td>18079265.0</td>\n",
       "      <td>16950002.0</td>\n",
       "      <td>1129263.0</td>\n",
       "      <td>6.2(S)</td>\n",
       "      <td>6.2</td>\n",
       "      <td>93.8</td>\n",
       "    </tr>\n",
       "    <tr>\n",
       "      <th>3</th>\n",
       "      <td>2008</td>\n",
       "      <td>Apr</td>\n",
       "      <td>18107051.0</td>\n",
       "      <td>16936408.0</td>\n",
       "      <td>1170643.0</td>\n",
       "      <td>6.5(S)</td>\n",
       "      <td>6.5</td>\n",
       "      <td>93.5</td>\n",
       "    </tr>\n",
       "    <tr>\n",
       "      <th>4</th>\n",
       "      <td>2008</td>\n",
       "      <td>May</td>\n",
       "      <td>18139327.0</td>\n",
       "      <td>16918510.0</td>\n",
       "      <td>1220817.0</td>\n",
       "      <td>6.7(S)</td>\n",
       "      <td>6.7</td>\n",
       "      <td>93.3</td>\n",
       "    </tr>\n",
       "  </tbody>\n",
       "</table>\n",
       "</div>"
      ],
      "text/plain": [
       "   Year Period  labor force  employment  unemployment unemployment rate  \\\n",
       "0  2008    Jan   18033755.0  16959230.0     1074525.0            6.0(S)   \n",
       "1  2008    Feb   18055339.0  16957546.0     1097793.0            6.1(S)   \n",
       "2  2008    Mar   18079265.0  16950002.0     1129263.0            6.2(S)   \n",
       "3  2008    Apr   18107051.0  16936408.0     1170643.0            6.5(S)   \n",
       "4  2008    May   18139327.0  16918510.0     1220817.0            6.7(S)   \n",
       "\n",
       "   unemployment rate2  employment rate  \n",
       "0                 6.0             94.0  \n",
       "1                 6.1             93.9  \n",
       "2                 6.2             93.8  \n",
       "3                 6.5             93.5  \n",
       "4                 6.7             93.3  "
      ]
     },
     "execution_count": 282,
     "metadata": {},
     "output_type": "execute_result"
    }
   ],
   "source": [
    "# calculating the rate of employment\n",
    "employment_data['employment rate'] =  round( employment_data['employment']/employment_data['labor force']*100, 1)\n",
    "employment_data.head()"
   ]
  },
  {
   "cell_type": "code",
   "execution_count": null,
   "metadata": {},
   "outputs": [],
   "source": []
  }
 ],
 "metadata": {
  "kernelspec": {
   "display_name": "Python 3",
   "language": "python",
   "name": "python3"
  },
  "language_info": {
   "codemirror_mode": {
    "name": "ipython",
    "version": 3
   },
   "file_extension": ".py",
   "mimetype": "text/x-python",
   "name": "python",
   "nbconvert_exporter": "python",
   "pygments_lexer": "ipython3",
   "version": "3.6.5"
  }
 },
 "nbformat": 4,
 "nbformat_minor": 2
}
